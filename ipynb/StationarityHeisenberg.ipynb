{
 "cells": [
  {
   "cell_type": "markdown",
   "metadata": {},
   "source": [
    "# Sampling of strong times"
   ]
  },
  {
   "cell_type": "markdown",
   "metadata": {},
   "source": [
    "## I. The strong stationary time T"
   ]
  },
  {
   "cell_type": "code",
   "execution_count": null,
   "metadata": {},
   "outputs": [],
   "source": [
    "import matplotlib.pyplot as plt\n",
    "import numpy as np\n",
    "from strong_stationary_times import core, sampling"
   ]
  },
  {
   "cell_type": "code",
   "execution_count": null,
   "metadata": {
    "scrolled": false
   },
   "outputs": [],
   "source": [
    "n     = 200            # number of iid samples\n",
    "Ms    = [5, 7, 9, 11, 13, 15, 17]\n",
    "#Ms    = [5, 7]\n",
    "Means = []\n",
    "\n",
    "for M in Ms:\n",
    "    A = np.zeros( shape=(M,M), dtype=int )\n",
    "    # Initialization with one element per fiber\n",
    "    # for i in range(M):\n",
    "    #    A[i,i] = 1\n",
    "    # Initialization with only one element in only one fiber\n",
    "    A[1,1] = 1\n",
    "    Ts = []\n",
    "    for i in range(1,n):\n",
    "        T = sampling.sample_T(A, debug=False)\n",
    "        # print( \"Sampled T: \", T )\n",
    "        Ts.append(T)\n",
    "    Ts = np.array(Ts)\n",
    "    print(\"M: \", M)\n",
    "    # print(\"Array of iid stopping times: \")\n",
    "    # print(Ts)\n",
    "    mean = np.mean(Ts)\n",
    "    Means.append(mean)\n",
    "    print(\"Mean: \", mean)\n",
    "    plt.hist(Ts/(M*M), bins=15)\n",
    "    plt.show()"
   ]
  },
  {
   "cell_type": "code",
   "execution_count": null,
   "metadata": {},
   "outputs": [],
   "source": [
    "# Plot \n",
    "plt.plot(Ms, np.log(Means)/np.log(Ms), '*')\n",
    "plt.xlabel(\"M\")\n",
    "plt.ylabel(\"log Mean / log M\")\n",
    "plt.ylim(0, 4)\n",
    "plt.savefig(\"T_log_mean_vs_M.png\")"
   ]
  },
  {
   "cell_type": "markdown",
   "metadata": {},
   "source": [
    "# II. The stopping time S"
   ]
  },
  {
   "cell_type": "code",
   "execution_count": null,
   "metadata": {
    "scrolled": false
   },
   "outputs": [],
   "source": [
    "n     = 200            # number of iid samples\n",
    "#Ms    = [5, 7, 9, 11, 13, 15, 17]\n",
    "Means = []\n",
    "\n",
    "for M in Ms:\n",
    "    A = np.zeros( shape=(M,M), dtype=int )\n",
    "    # Initialization with one element per fiber\n",
    "    # for i in range(M):\n",
    "    #    A[i,i] = 1\n",
    "    # Initialization with only one element in only one fiber\n",
    "    A[1,1] = 1\n",
    "    Ss = []\n",
    "    for i in range(1,n):\n",
    "        S = sampling.sample_S(A, debug=False)\n",
    "        # print( \"Sampled T: \", T )\n",
    "        Ss.append(S)\n",
    "    Ss = np.array(Ss)\n",
    "    print(\"M: \", M)\n",
    "    # print(\"Array of iid stopping times: \")\n",
    "    # print(Ts)\n",
    "    mean = np.mean(Ss)\n",
    "    Means.append(mean)\n",
    "    print(\"Mean: \", mean)\n",
    "    plt.hist(Ss/(M*M), bins=15)\n",
    "    plt.show()"
   ]
  },
  {
   "cell_type": "code",
   "execution_count": null,
   "metadata": {},
   "outputs": [],
   "source": [
    "# Plot \n",
    "plt.plot(Ms, np.log(Means)/np.log(Ms), '*')\n",
    "plt.xlabel(\"M\")\n",
    "plt.ylabel(\"log Mean / log M\")\n",
    "plt.ylim(0, 4)\n",
    "plt.savefig(\"S_log_mean_vs_M.png\")"
   ]
  },
  {
   "cell_type": "code",
   "execution_count": null,
   "metadata": {},
   "outputs": [],
   "source": []
  }
 ],
 "metadata": {
  "kernelspec": {
   "display_name": ".virtualenv",
   "language": "python",
   "name": ".virtualenv"
  },
  "language_info": {
   "codemirror_mode": {
    "name": "ipython",
    "version": 3
   },
   "file_extension": ".py",
   "mimetype": "text/x-python",
   "name": "python",
   "nbconvert_exporter": "python",
   "pygments_lexer": "ipython3",
   "version": "3.7.4"
  }
 },
 "nbformat": 4,
 "nbformat_minor": 2
}
