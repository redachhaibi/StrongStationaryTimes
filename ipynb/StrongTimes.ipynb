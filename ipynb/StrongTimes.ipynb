{
 "cells": [
  {
   "cell_type": "markdown",
   "metadata": {},
   "source": [
    "# Sampling of strong times"
   ]
  },
  {
   "cell_type": "markdown",
   "metadata": {},
   "source": [
    "## I. The strong stationary time T"
   ]
  },
  {
   "cell_type": "code",
   "execution_count": null,
   "metadata": {},
   "outputs": [],
   "source": [
    "import matplotlib.pyplot as plt\n",
    "import numpy as np\n",
    "from strong_stationary_times import core, sampling\n",
    "\n",
    "def sample(sampler, list_M, n):\n",
    "    results = []\n",
    "    #\n",
    "    for M in list_M:\n",
    "        A = np.zeros( shape=(M,M), dtype=int )\n",
    "        # Initialization with one element per fiber\n",
    "        # for i in range(M):\n",
    "        #    A[i,i] = 1\n",
    "        # Initialization with only one element in only one fiber\n",
    "        A[1,1] = 1\n",
    "        samples = np.array( [sampler(A, debug=False) for i in range(1,n)] )\n",
    "        print(\"M: \", M)\n",
    "        mean = np.mean(samples)\n",
    "        std  = np.std(samples)\n",
    "        result = {\n",
    "            \"M\"   : M,\n",
    "            \"n\"   : n,\n",
    "            \"mean\": mean,\n",
    "            \"std\" : std\n",
    "        }\n",
    "        results.append(result)\n",
    "        print(\"Result: \", result)\n",
    "        plt.hist(Ts/(M*M), bins=15)\n",
    "        plt.show()\n",
    "    return results"
   ]
  },
  {
   "cell_type": "code",
   "execution_count": null,
   "metadata": {
    "scrolled": false
   },
   "outputs": [],
   "source": [
    "n      = 100            # number of iid samples\n",
    "list_M = [5, 7, 9, 11, 13, 15, 17]\n",
    "#list_M = [5, 7]\n",
    "results = sample( sampler=sampling.sample_T, list_M=list_M, n=n)"
   ]
  },
  {
   "cell_type": "code",
   "execution_count": null,
   "metadata": {},
   "outputs": [],
   "source": [
    "# Plot \n",
    "means = np.array( [res['mean'] for res in results])\n",
    "stds  = np.array( [res['std'] for res in results] )\n",
    "ic1   = means + 1.96*stds/np.sqrt(n)\n",
    "ic2   = means - 1.96*stds/np.sqrt(n)\n",
    "plt.plot(list_M, np.log(means)/np.log(list_M), '*')\n",
    "plt.plot(list_M, np.log(ic1)/np.log(list_M), '--', label=\"upper confidence interval\")\n",
    "plt.plot(list_M, np.log(ic2)/np.log(list_M), '--', label=\"lower confidence interval\")\n",
    "plt.legend()\n",
    "plt.xlabel(\"M\")\n",
    "plt.ylabel(\"log Mean / log M\")\n",
    "plt.ylim(0, 4)\n",
    "plt.savefig(\"T_log_mean_vs_M.png\")"
   ]
  },
  {
   "cell_type": "markdown",
   "metadata": {},
   "source": [
    "# II. The stopping time S"
   ]
  },
  {
   "cell_type": "code",
   "execution_count": null,
   "metadata": {
    "scrolled": false
   },
   "outputs": [],
   "source": [
    "n      = 100            # number of iid samples\n",
    "list_M = [5, 7, 9, 11, 13, 15, 17]\n",
    "#list_M = [5, 7]\n",
    "results = sample( sampler=sampling.sample_S, list_M=list_M, n=n)"
   ]
  },
  {
   "cell_type": "code",
   "execution_count": null,
   "metadata": {},
   "outputs": [],
   "source": [
    "# Plot \n",
    "means = np.array( [res['mean'] for res in results])\n",
    "stds  = np.array( [res['std'] for res in results] )\n",
    "ic1   = means + 1.96*stds/np.sqrt(n)\n",
    "ic2   = means - 1.96*stds/np.sqrt(n)\n",
    "plt.plot(list_M, np.log(means)/np.log(list_M), '*')\n",
    "plt.plot(list_M, np.log(ic1)/np.log(list_M), '--', label=\"upper confidence interval\")\n",
    "plt.plot(list_M, np.log(ic2)/np.log(list_M), '--', label=\"lower confidence interval\")\n",
    "plt.legend()\n",
    "plt.xlabel(\"M\")\n",
    "plt.ylabel(\"log Mean / log M\")\n",
    "plt.ylim(0, 4)\n",
    "plt.savefig(\"S_log_mean_vs_M.png\")"
   ]
  },
  {
   "cell_type": "code",
   "execution_count": null,
   "metadata": {},
   "outputs": [],
   "source": []
  }
 ],
 "metadata": {
  "kernelspec": {
   "display_name": ".virtualenv",
   "language": "python",
   "name": ".virtualenv"
  },
  "language_info": {
   "codemirror_mode": {
    "name": "ipython",
    "version": 3
   },
   "file_extension": ".py",
   "mimetype": "text/x-python",
   "name": "python",
   "nbconvert_exporter": "python",
   "pygments_lexer": "ipython3",
   "version": "3.7.4"
  }
 },
 "nbformat": 4,
 "nbformat_minor": 2
}
